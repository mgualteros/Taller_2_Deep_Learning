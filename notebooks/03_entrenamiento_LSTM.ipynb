{
 "cells": [
  {
   "cell_type": "markdown",
   "id": "b153e238",
   "metadata": {},
   "source": [
    "##  1. Carga del dataset y limpieza de texto\n",
    "(Mismo bloque que en el notebook 02, reutilizando la función limpiar_texto())"
   ]
  },
  {
   "cell_type": "code",
   "execution_count": 414,
   "id": "c3805676",
   "metadata": {},
   "outputs": [
    {
     "name": "stderr",
     "output_type": "stream",
     "text": [
      "[nltk_data] Downloading package stopwords to\n",
      "[nltk_data]     C:\\Users\\herny\\AppData\\Roaming\\nltk_data...\n",
      "[nltk_data]   Package stopwords is already up-to-date!\n"
     ]
    }
   ],
   "source": [
    "import pandas as pd\n",
    "import tensorflow as tf\n",
    "import re\n",
    "import nltk\n",
    "\n",
    "# Descargar stopwords (palabras vacías comunes en inglés)\n",
    "nltk.download('stopwords')\n",
    "from nltk.corpus import stopwords\n",
    "\n",
    "# =====================\n",
    "# 1. Cargar dataset original\n",
    "# =====================\n",
    "url = \"https://raw.githubusercontent.com/dD2405/Twitter_Sentiment_Analysis/master/train.csv\"\n",
    "csv_path = tf.keras.utils.get_file(\"twitter_sentiment.csv\", url)\n",
    "df = pd.read_csv(csv_path)\n",
    "\n",
    "# =====================\n",
    "# 2. Preparar stopwords\n",
    "# =====================\n",
    "stop_words = set(stopwords.words('english'))  # Lista de palabras comunes que se eliminarán (ej: \"the\", \"and\", etc.)\n",
    "\n",
    "# =====================\n",
    "# 3. Función para limpiar texto\n",
    "# =====================\n",
    "def limpiar_texto(texto):\n",
    "    texto = texto.lower()  # 🔤 Convierte todo el texto a minúsculas\n",
    "    texto = re.sub(r'http\\S+', '', texto)  # 🌐 Elimina URLs (http://...)\n",
    "    texto = re.sub(r'@\\w+', '', texto)     # 👤 Elimina menciones de usuarios (@usuario)\n",
    "    texto = re.sub(r'#\\w+', '', texto)     # 🏷️ Elimina hashtags (#tema)\n",
    "    texto = re.sub(r'[^\\x00-\\x7F]+', ' ', texto)  # 🚫 Elimina caracteres no ASCII (emojis, letras raras)\n",
    "    texto = re.sub(r'[^\\w\\s]', '', texto)  # ✂️ Elimina signos de puntuación\n",
    "    texto = re.sub(r'\\d+', '', texto)      # 🔢 Elimina números\n",
    "    texto = re.sub(r'\\s+', ' ', texto).strip()  # 🧹 Reemplaza múltiples espacios por uno solo y recorta bordes\n",
    "    palabras = texto.split()  # 📦 Divide el texto en palabras individuales (tokens)\n",
    "    palabras_filtradas = [p for p in palabras if p not in stop_words]  # ❌ Elimina las stopwords\n",
    "    return ' '.join(palabras_filtradas)  # 🔁 Reconstruye el texto limpio sin stopwords\n",
    "\n",
    "# =====================\n",
    "# 4. Aplicar limpieza al dataset\n",
    "# =====================\n",
    "df['tweet_limpio'] = df['tweet'].apply(limpiar_texto)  # Aplica la función a cada tweet\n",
    "\n",
    "# =====================\n",
    "# 5. Filtrar tweets muy cortos (menos de 3 caracteres)\n",
    "# =====================\n",
    "df = df[df['tweet_limpio'].str.len() > 2]  # 🧽 Elimina tweets vacíos o muy cortos después de limpiar\n",
    "\n",
    "# ✅ El dataframe \"df\" ahora contiene una columna \"tweet_limpio\" con texto limpio y listo para NLP\n"
   ]
  },
  {
   "cell_type": "code",
   "execution_count": 415,
   "id": "88874909",
   "metadata": {},
   "outputs": [
    {
     "data": {
      "text/html": [
       "<div>\n",
       "<style scoped>\n",
       "    .dataframe tbody tr th:only-of-type {\n",
       "        vertical-align: middle;\n",
       "    }\n",
       "\n",
       "    .dataframe tbody tr th {\n",
       "        vertical-align: top;\n",
       "    }\n",
       "\n",
       "    .dataframe thead th {\n",
       "        text-align: right;\n",
       "    }\n",
       "</style>\n",
       "<table border=\"1\" class=\"dataframe\">\n",
       "  <thead>\n",
       "    <tr style=\"text-align: right;\">\n",
       "      <th></th>\n",
       "      <th>Label</th>\n",
       "      <th>Cantidad</th>\n",
       "    </tr>\n",
       "  </thead>\n",
       "  <tbody>\n",
       "    <tr>\n",
       "      <th>0</th>\n",
       "      <td>0</td>\n",
       "      <td>29172</td>\n",
       "    </tr>\n",
       "    <tr>\n",
       "      <th>1</th>\n",
       "      <td>1</td>\n",
       "      <td>2231</td>\n",
       "    </tr>\n",
       "  </tbody>\n",
       "</table>\n",
       "</div>"
      ],
      "text/plain": [
       "   Label  Cantidad\n",
       "0      0     29172\n",
       "1      1      2231"
      ]
     },
     "execution_count": 415,
     "metadata": {},
     "output_type": "execute_result"
    }
   ],
   "source": [
    "df['label'].value_counts().rename_axis('Label').reset_index(name='Cantidad')"
   ]
  },
  {
   "cell_type": "code",
   "execution_count": 416,
   "id": "e5ae5558",
   "metadata": {},
   "outputs": [
    {
     "data": {
      "text/html": [
       "<div>\n",
       "<style scoped>\n",
       "    .dataframe tbody tr th:only-of-type {\n",
       "        vertical-align: middle;\n",
       "    }\n",
       "\n",
       "    .dataframe tbody tr th {\n",
       "        vertical-align: top;\n",
       "    }\n",
       "\n",
       "    .dataframe thead th {\n",
       "        text-align: right;\n",
       "    }\n",
       "</style>\n",
       "<table border=\"1\" class=\"dataframe\">\n",
       "  <thead>\n",
       "    <tr style=\"text-align: right;\">\n",
       "      <th></th>\n",
       "      <th>id</th>\n",
       "      <th>label</th>\n",
       "      <th>tweet</th>\n",
       "      <th>tweet_limpio</th>\n",
       "    </tr>\n",
       "  </thead>\n",
       "  <tbody>\n",
       "    <tr>\n",
       "      <th>0</th>\n",
       "      <td>1</td>\n",
       "      <td>0</td>\n",
       "      <td>@user when a father is dysfunctional and is s...</td>\n",
       "      <td>father dysfunctional selfish drags kids dysfun...</td>\n",
       "    </tr>\n",
       "    <tr>\n",
       "      <th>1</th>\n",
       "      <td>2</td>\n",
       "      <td>0</td>\n",
       "      <td>@user @user thanks for #lyft credit i can't us...</td>\n",
       "      <td>thanks credit cant use cause dont offer wheelc...</td>\n",
       "    </tr>\n",
       "    <tr>\n",
       "      <th>2</th>\n",
       "      <td>3</td>\n",
       "      <td>0</td>\n",
       "      <td>bihday your majesty</td>\n",
       "      <td>bihday majesty</td>\n",
       "    </tr>\n",
       "    <tr>\n",
       "      <th>3</th>\n",
       "      <td>4</td>\n",
       "      <td>0</td>\n",
       "      <td>#model   i love u take with u all the time in ...</td>\n",
       "      <td>love u take u time ur</td>\n",
       "    </tr>\n",
       "    <tr>\n",
       "      <th>4</th>\n",
       "      <td>5</td>\n",
       "      <td>0</td>\n",
       "      <td>factsguide: society now    #motivation</td>\n",
       "      <td>factsguide society</td>\n",
       "    </tr>\n",
       "  </tbody>\n",
       "</table>\n",
       "</div>"
      ],
      "text/plain": [
       "   id  label                                              tweet  \\\n",
       "0   1      0   @user when a father is dysfunctional and is s...   \n",
       "1   2      0  @user @user thanks for #lyft credit i can't us...   \n",
       "2   3      0                                bihday your majesty   \n",
       "3   4      0  #model   i love u take with u all the time in ...   \n",
       "4   5      0             factsguide: society now    #motivation   \n",
       "\n",
       "                                        tweet_limpio  \n",
       "0  father dysfunctional selfish drags kids dysfun...  \n",
       "1  thanks credit cant use cause dont offer wheelc...  \n",
       "2                                     bihday majesty  \n",
       "3                              love u take u time ur  \n",
       "4                                 factsguide society  "
      ]
     },
     "execution_count": 416,
     "metadata": {},
     "output_type": "execute_result"
    }
   ],
   "source": [
    "df.head()"
   ]
  },
  {
   "cell_type": "markdown",
   "id": "afc7e622",
   "metadata": {},
   "source": [
    "##  2. Tokenización y preparación"
   ]
  },
  {
   "cell_type": "code",
   "execution_count": 417,
   "id": "2282219d",
   "metadata": {},
   "outputs": [],
   "source": [
    "from sklearn.model_selection import train_test_split\n",
    "from tensorflow.keras.preprocessing.text import Tokenizer\n",
    "from tensorflow.keras.preprocessing.sequence import pad_sequences\n",
    "\n",
    "vocab_size = 10000\n",
    "max_len = 150\n",
    "oov_token = \"<OOV>\"# ['<PAD>', '<UNK>', '<OOV>']#, '<BOS>', '<EOS>'] \n",
    "\n",
    "tokenizer = Tokenizer(num_words=vocab_size, oov_token=oov_token)\n",
    "\n",
    "#tweet_limpio o tweet_sin_stopwords\n",
    "tokenizer.fit_on_texts(df['tweet_limpio'])\n",
    "sequences = tokenizer.texts_to_sequences(df['tweet_limpio'])\n",
    "\n",
    "# tweet_sin_stopwords\n",
    "#tokenizer.fit_on_texts(df['tweet_sin_stopwords'])\n",
    "#sequences = tokenizer.texts_to_sequences(df['tweet_sin_stopwords'])\n",
    "\n",
    "#tokenizer.fit_on_texts(df['tweet'])\n",
    "#sequences = tokenizer.texts_to_sequences(df['tweet'])\n",
    "X = pad_sequences(sequences, maxlen=max_len, padding='post')\n",
    "y = df['label'].values\n",
    "\n",
    "X_train, X_test, y_train, y_test = train_test_split(X, y, test_size=0.2, random_state=42)\n"
   ]
  },
  {
   "cell_type": "code",
   "execution_count": 418,
   "id": "59f3fae5",
   "metadata": {},
   "outputs": [
    {
     "name": "stdout",
     "output_type": "stream",
     "text": [
      "Cantidad de palabras en el tokenizer: 22635\n",
      "Original:  @user when a father is dysfunctional and is so selfish he drags his kids into his dysfunction.   #run\n",
      "Limpio:   father dysfunctional selfish drags kids dysfunction\n",
      "---\n",
      "Original: @user @user thanks for #lyft credit i can't use cause they don't offer wheelchair vans in pdx.    #disapointed #getthanked\n",
      "Limpio:   thanks credit cant use cause dont offer wheelchair vans pdx\n",
      "---\n",
      "Original:   bihday your majesty\n",
      "Limpio:   bihday majesty\n",
      "---\n",
      "Original: #model   i love u take with u all the time in urð±!!! ððððð¦ð¦ð¦  \n",
      "Limpio:   love u take u time ur\n",
      "---\n",
      "Original:  factsguide: society now    #motivation\n",
      "Limpio:   factsguide society\n",
      "---\n"
     ]
    }
   ],
   "source": [
    "df['tweet_limpio'].sample(10)\n",
    "print(f\"Cantidad de palabras en el tokenizer: {len(tokenizer.word_index)}\")\n",
    "for i in range(5):\n",
    "    print(\"Original:\", df['tweet'].iloc[i])\n",
    "    print(\"Limpio:  \", df['tweet_limpio'].iloc[i])\n",
    "    print(\"---\")\n"
   ]
  },
  {
   "cell_type": "markdown",
   "id": "188c81d0",
   "metadata": {},
   "source": [
    "## 3. Modelo LSTM con Dropout y EarlyStopping"
   ]
  },
  {
   "cell_type": "code",
   "execution_count": 419,
   "id": "afa5d51b",
   "metadata": {},
   "outputs": [
    {
     "name": "stderr",
     "output_type": "stream",
     "text": [
      "c:\\Users\\herny\\AppData\\Local\\Programs\\Python\\Python311\\Lib\\site-packages\\keras\\src\\layers\\core\\embedding.py:90: UserWarning: Argument `input_length` is deprecated. Just remove it.\n",
      "  warnings.warn(\n"
     ]
    },
    {
     "data": {
      "text/html": [
       "<pre style=\"white-space:pre;overflow-x:auto;line-height:normal;font-family:Menlo,'DejaVu Sans Mono',consolas,'Courier New',monospace\"><span style=\"font-weight: bold\">Model: \"sequential_60\"</span>\n",
       "</pre>\n"
      ],
      "text/plain": [
       "\u001b[1mModel: \"sequential_60\"\u001b[0m\n"
      ]
     },
     "metadata": {},
     "output_type": "display_data"
    },
    {
     "data": {
      "text/html": [
       "<pre style=\"white-space:pre;overflow-x:auto;line-height:normal;font-family:Menlo,'DejaVu Sans Mono',consolas,'Courier New',monospace\">┏━━━━━━━━━━━━━━━━━━━━━━━━━━━━━━━━━┳━━━━━━━━━━━━━━━━━━━━━━━━┳━━━━━━━━━━━━━━━┓\n",
       "┃<span style=\"font-weight: bold\"> Layer (type)                    </span>┃<span style=\"font-weight: bold\"> Output Shape           </span>┃<span style=\"font-weight: bold\">       Param # </span>┃\n",
       "┡━━━━━━━━━━━━━━━━━━━━━━━━━━━━━━━━━╇━━━━━━━━━━━━━━━━━━━━━━━━╇━━━━━━━━━━━━━━━┩\n",
       "│ embedding_62 (<span style=\"color: #0087ff; text-decoration-color: #0087ff\">Embedding</span>)        │ (<span style=\"color: #00d7ff; text-decoration-color: #00d7ff\">None</span>, <span style=\"color: #00af00; text-decoration-color: #00af00\">150</span>, <span style=\"color: #00af00; text-decoration-color: #00af00\">128</span>)       │     <span style=\"color: #00af00; text-decoration-color: #00af00\">1,280,000</span> │\n",
       "├─────────────────────────────────┼────────────────────────┼───────────────┤\n",
       "│ lstm_92 (<span style=\"color: #0087ff; text-decoration-color: #0087ff\">LSTM</span>)                  │ (<span style=\"color: #00d7ff; text-decoration-color: #00d7ff\">None</span>, <span style=\"color: #00af00; text-decoration-color: #00af00\">150</span>, <span style=\"color: #00af00; text-decoration-color: #00af00\">64</span>)        │        <span style=\"color: #00af00; text-decoration-color: #00af00\">49,408</span> │\n",
       "├─────────────────────────────────┼────────────────────────┼───────────────┤\n",
       "│ dropout_138 (<span style=\"color: #0087ff; text-decoration-color: #0087ff\">Dropout</span>)           │ (<span style=\"color: #00d7ff; text-decoration-color: #00d7ff\">None</span>, <span style=\"color: #00af00; text-decoration-color: #00af00\">150</span>, <span style=\"color: #00af00; text-decoration-color: #00af00\">64</span>)        │             <span style=\"color: #00af00; text-decoration-color: #00af00\">0</span> │\n",
       "├─────────────────────────────────┼────────────────────────┼───────────────┤\n",
       "│ lstm_93 (<span style=\"color: #0087ff; text-decoration-color: #0087ff\">LSTM</span>)                  │ (<span style=\"color: #00d7ff; text-decoration-color: #00d7ff\">None</span>, <span style=\"color: #00af00; text-decoration-color: #00af00\">32</span>)             │        <span style=\"color: #00af00; text-decoration-color: #00af00\">12,416</span> │\n",
       "├─────────────────────────────────┼────────────────────────┼───────────────┤\n",
       "│ dropout_139 (<span style=\"color: #0087ff; text-decoration-color: #0087ff\">Dropout</span>)           │ (<span style=\"color: #00d7ff; text-decoration-color: #00d7ff\">None</span>, <span style=\"color: #00af00; text-decoration-color: #00af00\">32</span>)             │             <span style=\"color: #00af00; text-decoration-color: #00af00\">0</span> │\n",
       "├─────────────────────────────────┼────────────────────────┼───────────────┤\n",
       "│ dense_138 (<span style=\"color: #0087ff; text-decoration-color: #0087ff\">Dense</span>)               │ (<span style=\"color: #00d7ff; text-decoration-color: #00d7ff\">None</span>, <span style=\"color: #00af00; text-decoration-color: #00af00\">16</span>)             │           <span style=\"color: #00af00; text-decoration-color: #00af00\">528</span> │\n",
       "├─────────────────────────────────┼────────────────────────┼───────────────┤\n",
       "│ dropout_140 (<span style=\"color: #0087ff; text-decoration-color: #0087ff\">Dropout</span>)           │ (<span style=\"color: #00d7ff; text-decoration-color: #00d7ff\">None</span>, <span style=\"color: #00af00; text-decoration-color: #00af00\">16</span>)             │             <span style=\"color: #00af00; text-decoration-color: #00af00\">0</span> │\n",
       "├─────────────────────────────────┼────────────────────────┼───────────────┤\n",
       "│ dense_139 (<span style=\"color: #0087ff; text-decoration-color: #0087ff\">Dense</span>)               │ (<span style=\"color: #00d7ff; text-decoration-color: #00d7ff\">None</span>, <span style=\"color: #00af00; text-decoration-color: #00af00\">1</span>)              │            <span style=\"color: #00af00; text-decoration-color: #00af00\">17</span> │\n",
       "└─────────────────────────────────┴────────────────────────┴───────────────┘\n",
       "</pre>\n"
      ],
      "text/plain": [
       "┏━━━━━━━━━━━━━━━━━━━━━━━━━━━━━━━━━┳━━━━━━━━━━━━━━━━━━━━━━━━┳━━━━━━━━━━━━━━━┓\n",
       "┃\u001b[1m \u001b[0m\u001b[1mLayer (type)                   \u001b[0m\u001b[1m \u001b[0m┃\u001b[1m \u001b[0m\u001b[1mOutput Shape          \u001b[0m\u001b[1m \u001b[0m┃\u001b[1m \u001b[0m\u001b[1m      Param #\u001b[0m\u001b[1m \u001b[0m┃\n",
       "┡━━━━━━━━━━━━━━━━━━━━━━━━━━━━━━━━━╇━━━━━━━━━━━━━━━━━━━━━━━━╇━━━━━━━━━━━━━━━┩\n",
       "│ embedding_62 (\u001b[38;5;33mEmbedding\u001b[0m)        │ (\u001b[38;5;45mNone\u001b[0m, \u001b[38;5;34m150\u001b[0m, \u001b[38;5;34m128\u001b[0m)       │     \u001b[38;5;34m1,280,000\u001b[0m │\n",
       "├─────────────────────────────────┼────────────────────────┼───────────────┤\n",
       "│ lstm_92 (\u001b[38;5;33mLSTM\u001b[0m)                  │ (\u001b[38;5;45mNone\u001b[0m, \u001b[38;5;34m150\u001b[0m, \u001b[38;5;34m64\u001b[0m)        │        \u001b[38;5;34m49,408\u001b[0m │\n",
       "├─────────────────────────────────┼────────────────────────┼───────────────┤\n",
       "│ dropout_138 (\u001b[38;5;33mDropout\u001b[0m)           │ (\u001b[38;5;45mNone\u001b[0m, \u001b[38;5;34m150\u001b[0m, \u001b[38;5;34m64\u001b[0m)        │             \u001b[38;5;34m0\u001b[0m │\n",
       "├─────────────────────────────────┼────────────────────────┼───────────────┤\n",
       "│ lstm_93 (\u001b[38;5;33mLSTM\u001b[0m)                  │ (\u001b[38;5;45mNone\u001b[0m, \u001b[38;5;34m32\u001b[0m)             │        \u001b[38;5;34m12,416\u001b[0m │\n",
       "├─────────────────────────────────┼────────────────────────┼───────────────┤\n",
       "│ dropout_139 (\u001b[38;5;33mDropout\u001b[0m)           │ (\u001b[38;5;45mNone\u001b[0m, \u001b[38;5;34m32\u001b[0m)             │             \u001b[38;5;34m0\u001b[0m │\n",
       "├─────────────────────────────────┼────────────────────────┼───────────────┤\n",
       "│ dense_138 (\u001b[38;5;33mDense\u001b[0m)               │ (\u001b[38;5;45mNone\u001b[0m, \u001b[38;5;34m16\u001b[0m)             │           \u001b[38;5;34m528\u001b[0m │\n",
       "├─────────────────────────────────┼────────────────────────┼───────────────┤\n",
       "│ dropout_140 (\u001b[38;5;33mDropout\u001b[0m)           │ (\u001b[38;5;45mNone\u001b[0m, \u001b[38;5;34m16\u001b[0m)             │             \u001b[38;5;34m0\u001b[0m │\n",
       "├─────────────────────────────────┼────────────────────────┼───────────────┤\n",
       "│ dense_139 (\u001b[38;5;33mDense\u001b[0m)               │ (\u001b[38;5;45mNone\u001b[0m, \u001b[38;5;34m1\u001b[0m)              │            \u001b[38;5;34m17\u001b[0m │\n",
       "└─────────────────────────────────┴────────────────────────┴───────────────┘\n"
      ]
     },
     "metadata": {},
     "output_type": "display_data"
    },
    {
     "data": {
      "text/html": [
       "<pre style=\"white-space:pre;overflow-x:auto;line-height:normal;font-family:Menlo,'DejaVu Sans Mono',consolas,'Courier New',monospace\"><span style=\"font-weight: bold\"> Total params: </span><span style=\"color: #00af00; text-decoration-color: #00af00\">1,342,369</span> (5.12 MB)\n",
       "</pre>\n"
      ],
      "text/plain": [
       "\u001b[1m Total params: \u001b[0m\u001b[38;5;34m1,342,369\u001b[0m (5.12 MB)\n"
      ]
     },
     "metadata": {},
     "output_type": "display_data"
    },
    {
     "data": {
      "text/html": [
       "<pre style=\"white-space:pre;overflow-x:auto;line-height:normal;font-family:Menlo,'DejaVu Sans Mono',consolas,'Courier New',monospace\"><span style=\"font-weight: bold\"> Trainable params: </span><span style=\"color: #00af00; text-decoration-color: #00af00\">1,342,369</span> (5.12 MB)\n",
       "</pre>\n"
      ],
      "text/plain": [
       "\u001b[1m Trainable params: \u001b[0m\u001b[38;5;34m1,342,369\u001b[0m (5.12 MB)\n"
      ]
     },
     "metadata": {},
     "output_type": "display_data"
    },
    {
     "data": {
      "text/html": [
       "<pre style=\"white-space:pre;overflow-x:auto;line-height:normal;font-family:Menlo,'DejaVu Sans Mono',consolas,'Courier New',monospace\"><span style=\"font-weight: bold\"> Non-trainable params: </span><span style=\"color: #00af00; text-decoration-color: #00af00\">0</span> (0.00 B)\n",
       "</pre>\n"
      ],
      "text/plain": [
       "\u001b[1m Non-trainable params: \u001b[0m\u001b[38;5;34m0\u001b[0m (0.00 B)\n"
      ]
     },
     "metadata": {},
     "output_type": "display_data"
    }
   ],
   "source": [
    "from tensorflow.keras.models import Sequential\n",
    "from tensorflow.keras.layers import Embedding, LSTM, Dense, Dropout\n",
    "from tensorflow.keras.callbacks import EarlyStopping\n",
    "from tensorflow.keras.regularizers import l2\n",
    "\n",
    "model = Sequential([\n",
    "    Embedding(vocab_size, 128, input_length=max_len),\n",
    "    LSTM(64, return_sequences=True),\n",
    "    Dropout(0.5),\n",
    "    LSTM(32),# activation='relu', kernel_regularizer=l2(0.001)),\n",
    "    Dropout(0.4),\n",
    "    Dense(16, activation='relu', kernel_regularizer=l2(0.001)),\n",
    "    Dropout(0.3),\n",
    "    #Dense(16, activation='relu'),# kernel_regularizer=l2(0.001)),\n",
    "    #Dropout(0.3),\n",
    "    Dense(1, activation='sigmoid', kernel_regularizer=l2(0.001))\n",
    "])\n",
    "\n",
    "model.compile(loss='binary_crossentropy', optimizer='adam', metrics=['accuracy'])\n",
    "\n",
    "#early_stop = EarlyStopping(monitor='val_loss', patience=215, restore_best_weights=True)\n",
    "\n",
    "model.build(input_shape=(None, max_len))\n",
    "model.summary()\n"
   ]
  },
  {
   "cell_type": "code",
   "execution_count": 420,
   "id": "8d8195db",
   "metadata": {},
   "outputs": [
    {
     "data": {
      "text/plain": [
       "<Embedding name=embedding_63, built=False>"
      ]
     },
     "execution_count": 420,
     "metadata": {},
     "output_type": "execute_result"
    }
   ],
   "source": [
    "Embedding(input_dim=vocab_size, output_dim=128)\n"
   ]
  },
  {
   "cell_type": "markdown",
   "id": "96052b0a",
   "metadata": {},
   "source": [
    "##  4. Entrenamiento del modelo **class_weights**"
   ]
  },
  {
   "cell_type": "code",
   "execution_count": 421,
   "id": "9f80fda5",
   "metadata": {},
   "outputs": [
    {
     "name": "stdout",
     "output_type": "stream",
     "text": [
      "Pesos por clase: {0: 0.5380825908156271, 1: 7.064679415073116}\n"
     ]
    }
   ],
   "source": [
    "from sklearn.utils import class_weight\n",
    "import numpy as np\n",
    "\n",
    "class_weights = class_weight.compute_class_weight(\n",
    "    class_weight='balanced',\n",
    "    classes=np.unique(y_train),\n",
    "    y=y_train\n",
    ")\n",
    "\n",
    "class_weights = dict(enumerate(class_weights))\n",
    "\n",
    "print(\"Pesos por clase:\", class_weights)\n"
   ]
  },
  {
   "cell_type": "code",
   "execution_count": 422,
   "id": "45b59c13",
   "metadata": {},
   "outputs": [
    {
     "name": "stdout",
     "output_type": "stream",
     "text": [
      "{0: 23344, 1: 1778}\n"
     ]
    }
   ],
   "source": [
    "import numpy as np\n",
    "unique, counts = np.unique(y_train, return_counts=True)\n",
    "print(dict(zip(unique, counts)))\n"
   ]
  },
  {
   "cell_type": "code",
   "execution_count": 423,
   "id": "021b98cd",
   "metadata": {},
   "outputs": [],
   "source": [
    "# Pesos manuales para balancear clases\n",
    "#class_weights = {0: 2, 1: 15.0}\n",
    "#class_weight={0:1, 1:10}\n"
   ]
  },
  {
   "cell_type": "code",
   "execution_count": 424,
   "id": "38b4f826",
   "metadata": {},
   "outputs": [
    {
     "data": {
      "text/plain": [
       "{0: 0.5380825908156271, 1: 7.064679415073116}"
      ]
     },
     "execution_count": 424,
     "metadata": {},
     "output_type": "execute_result"
    }
   ],
   "source": [
    "class_weights"
   ]
  },
  {
   "cell_type": "code",
   "execution_count": 425,
   "id": "1dad72bd",
   "metadata": {},
   "outputs": [
    {
     "name": "stdout",
     "output_type": "stream",
     "text": [
      "Distribución de clases en y_train: {0: 23344, 1: 1778}\n"
     ]
    }
   ],
   "source": [
    "import numpy as np\n",
    "\n",
    "unique, counts = np.unique(y_train, return_counts=True)\n",
    "print(\"Distribución de clases en y_train:\", dict(zip(unique, counts)))\n"
   ]
  },
  {
   "cell_type": "code",
   "execution_count": 426,
   "id": "6db33c96",
   "metadata": {},
   "outputs": [
    {
     "name": "stdout",
     "output_type": "stream",
     "text": [
      "Epoch 1/15\n",
      "\u001b[1m393/393\u001b[0m \u001b[32m━━━━━━━━━━━━━━━━━━━━\u001b[0m\u001b[37m\u001b[0m \u001b[1m46s\u001b[0m 110ms/step - accuracy: 0.3866 - loss: 0.7191 - val_accuracy: 0.9279 - val_loss: 0.6935\n",
      "Epoch 2/15\n",
      "\u001b[1m393/393\u001b[0m \u001b[32m━━━━━━━━━━━━━━━━━━━━\u001b[0m\u001b[37m\u001b[0m \u001b[1m43s\u001b[0m 110ms/step - accuracy: 0.7238 - loss: 0.7049 - val_accuracy: 0.9279 - val_loss: 0.6886\n",
      "Epoch 3/15\n",
      "\u001b[1m393/393\u001b[0m \u001b[32m━━━━━━━━━━━━━━━━━━━━\u001b[0m\u001b[37m\u001b[0m \u001b[1m43s\u001b[0m 110ms/step - accuracy: 0.9095 - loss: 0.7015 - val_accuracy: 0.9279 - val_loss: 0.6889\n",
      "Epoch 4/15\n",
      "\u001b[1m393/393\u001b[0m \u001b[32m━━━━━━━━━━━━━━━━━━━━\u001b[0m\u001b[37m\u001b[0m \u001b[1m43s\u001b[0m 110ms/step - accuracy: 0.8570 - loss: 0.6855 - val_accuracy: 0.0721 - val_loss: 0.6953\n",
      "Epoch 5/15\n",
      "\u001b[1m393/393\u001b[0m \u001b[32m━━━━━━━━━━━━━━━━━━━━\u001b[0m\u001b[37m\u001b[0m \u001b[1m44s\u001b[0m 112ms/step - accuracy: 0.7520 - loss: 0.6860 - val_accuracy: 0.0721 - val_loss: 0.6940\n",
      "Epoch 6/15\n",
      "\u001b[1m393/393\u001b[0m \u001b[32m━━━━━━━━━━━━━━━━━━━━\u001b[0m\u001b[37m\u001b[0m \u001b[1m44s\u001b[0m 111ms/step - accuracy: 0.1865 - loss: 0.7034 - val_accuracy: 0.9279 - val_loss: 0.6925\n",
      "Epoch 7/15\n",
      "\u001b[1m393/393\u001b[0m \u001b[32m━━━━━━━━━━━━━━━━━━━━\u001b[0m\u001b[37m\u001b[0m \u001b[1m44s\u001b[0m 112ms/step - accuracy: 0.4172 - loss: 0.6992 - val_accuracy: 0.9279 - val_loss: 0.6908\n",
      "Epoch 7: early stopping\n",
      "Restoring model weights from the end of the best epoch: 2.\n"
     ]
    }
   ],
   "source": [
    "from tensorflow.keras.callbacks import EarlyStopping\n",
    "# La función EarlyStopping es una herramienta de oro en deep learning para evitar el sobreentrenamiento (overfitting).\n",
    "early_stop = EarlyStopping(\n",
    "    monitor='val_loss',\n",
    "    patience=5,\n",
    "    restore_best_weights=True,\n",
    "    verbose=1  # opcional para que muestre cuándo se detiene\n",
    ")\n",
    "\n",
    "\n",
    "history = model.fit(\n",
    "    X_train, y_train,\n",
    "    epochs=15,  \n",
    "    batch_size=64,\n",
    "    validation_data=(X_test, y_test),\n",
    "    callbacks=[early_stop]\n",
    "    ,class_weight=class_weights  # Pesos \n",
    ")\n"
   ]
  },
  {
   "cell_type": "markdown",
   "id": "47237fe3",
   "metadata": {},
   "source": [
    "##  4. Entrenamiento del modelo **SMOTE**"
   ]
  },
  {
   "cell_type": "code",
   "execution_count": 427,
   "id": "c754fe48",
   "metadata": {},
   "outputs": [
    {
     "name": "stdout",
     "output_type": "stream",
     "text": [
      "Distribución balanceada: {0: 23344, 1: 23344}\n",
      "Epoch 1/15\n",
      "\u001b[1m730/730\u001b[0m \u001b[32m━━━━━━━━━━━━━━━━━━━━\u001b[0m\u001b[37m\u001b[0m \u001b[1m79s\u001b[0m 105ms/step - accuracy: 0.5012 - loss: 0.6952 - val_accuracy: 0.0721 - val_loss: 0.6938\n",
      "Epoch 2/15\n",
      "\u001b[1m730/730\u001b[0m \u001b[32m━━━━━━━━━━━━━━━━━━━━\u001b[0m\u001b[37m\u001b[0m \u001b[1m80s\u001b[0m 109ms/step - accuracy: 0.4965 - loss: 0.6932 - val_accuracy: 0.9279 - val_loss: 0.6932\n",
      "Epoch 3/15\n",
      "\u001b[1m730/730\u001b[0m \u001b[32m━━━━━━━━━━━━━━━━━━━━\u001b[0m\u001b[37m\u001b[0m \u001b[1m80s\u001b[0m 110ms/step - accuracy: 0.4920 - loss: 0.6932 - val_accuracy: 0.9279 - val_loss: 0.6926\n",
      "Epoch 4/15\n",
      "\u001b[1m730/730\u001b[0m \u001b[32m━━━━━━━━━━━━━━━━━━━━\u001b[0m\u001b[37m\u001b[0m \u001b[1m79s\u001b[0m 108ms/step - accuracy: 0.5034 - loss: 0.6932 - val_accuracy: 0.0721 - val_loss: 0.6963\n",
      "Epoch 5/15\n",
      "\u001b[1m730/730\u001b[0m \u001b[32m━━━━━━━━━━━━━━━━━━━━\u001b[0m\u001b[37m\u001b[0m \u001b[1m79s\u001b[0m 108ms/step - accuracy: 0.4960 - loss: 0.6932 - val_accuracy: 0.9279 - val_loss: 0.6912\n",
      "Epoch 6/15\n",
      "\u001b[1m730/730\u001b[0m \u001b[32m━━━━━━━━━━━━━━━━━━━━\u001b[0m\u001b[37m\u001b[0m \u001b[1m79s\u001b[0m 108ms/step - accuracy: 0.5011 - loss: 0.6932 - val_accuracy: 0.0721 - val_loss: 0.6942\n",
      "Epoch 7/15\n",
      "\u001b[1m730/730\u001b[0m \u001b[32m━━━━━━━━━━━━━━━━━━━━\u001b[0m\u001b[37m\u001b[0m \u001b[1m79s\u001b[0m 108ms/step - accuracy: 0.5037 - loss: 0.6931 - val_accuracy: 0.0721 - val_loss: 0.6963\n",
      "Epoch 8/15\n",
      "\u001b[1m730/730\u001b[0m \u001b[32m━━━━━━━━━━━━━━━━━━━━\u001b[0m\u001b[37m\u001b[0m \u001b[1m78s\u001b[0m 107ms/step - accuracy: 0.4990 - loss: 0.6932 - val_accuracy: 0.0721 - val_loss: 0.6969\n",
      "Epoch 9/15\n",
      "\u001b[1m730/730\u001b[0m \u001b[32m━━━━━━━━━━━━━━━━━━━━\u001b[0m\u001b[37m\u001b[0m \u001b[1m78s\u001b[0m 106ms/step - accuracy: 0.5002 - loss: 0.6932 - val_accuracy: 0.9279 - val_loss: 0.6903\n",
      "Epoch 10/15\n",
      "\u001b[1m730/730\u001b[0m \u001b[32m━━━━━━━━━━━━━━━━━━━━\u001b[0m\u001b[37m\u001b[0m \u001b[1m77s\u001b[0m 106ms/step - accuracy: 0.4954 - loss: 0.6932 - val_accuracy: 0.9279 - val_loss: 0.6878\n",
      "Epoch 11/15\n",
      "\u001b[1m730/730\u001b[0m \u001b[32m━━━━━━━━━━━━━━━━━━━━\u001b[0m\u001b[37m\u001b[0m \u001b[1m77s\u001b[0m 106ms/step - accuracy: 0.5048 - loss: 0.6931 - val_accuracy: 0.0721 - val_loss: 0.7002\n",
      "Epoch 12/15\n",
      "\u001b[1m730/730\u001b[0m \u001b[32m━━━━━━━━━━━━━━━━━━━━\u001b[0m\u001b[37m\u001b[0m \u001b[1m7901s\u001b[0m 11s/step - accuracy: 0.5049 - loss: 0.6931 - val_accuracy: 0.9279 - val_loss: 0.6927\n",
      "Epoch 13/15\n",
      "\u001b[1m730/730\u001b[0m \u001b[32m━━━━━━━━━━━━━━━━━━━━\u001b[0m\u001b[37m\u001b[0m \u001b[1m88s\u001b[0m 120ms/step - accuracy: 0.4995 - loss: 0.6932 - val_accuracy: 0.0721 - val_loss: 0.6986\n",
      "Epoch 14/15\n",
      "\u001b[1m730/730\u001b[0m \u001b[32m━━━━━━━━━━━━━━━━━━━━\u001b[0m\u001b[37m\u001b[0m \u001b[1m84s\u001b[0m 115ms/step - accuracy: 0.4942 - loss: 0.6932 - val_accuracy: 0.0721 - val_loss: 0.6963\n",
      "Epoch 15/15\n",
      "\u001b[1m730/730\u001b[0m \u001b[32m━━━━━━━━━━━━━━━━━━━━\u001b[0m\u001b[37m\u001b[0m \u001b[1m84s\u001b[0m 115ms/step - accuracy: 0.5026 - loss: 0.6931 - val_accuracy: 0.9279 - val_loss: 0.6897\n",
      "Epoch 15: early stopping\n",
      "Restoring model weights from the end of the best epoch: 10.\n"
     ]
    }
   ],
   "source": [
    "from sklearn.model_selection import train_test_split\n",
    "from imblearn.over_sampling import SMOTE\n",
    "from tensorflow.keras.callbacks import EarlyStopping\n",
    "\n",
    "# === 1. División inicial del conjunto de datos\n",
    "X_train, X_test, y_train, y_test = train_test_split(\n",
    "    X, y, test_size=0.2, random_state=42\n",
    ")\n",
    "\n",
    "# === 2. Aplicar SMOTE para balancear\n",
    "sm = SMOTE(random_state=42)\n",
    "X_train_res, y_train_res = sm.fit_resample(X_train, y_train)\n",
    "\n",
    "# Verificar balanceo\n",
    "import numpy as np\n",
    "unique, counts = np.unique(y_train_res, return_counts=True)\n",
    "print(\"Distribución balanceada:\", dict(zip(unique, counts)))\n",
    "\n",
    "# === 3. EarlyStopping para evitar sobreentrenamiento\n",
    "early_stop = EarlyStopping(\n",
    "    monitor='val_loss',\n",
    "    patience=5,\n",
    "    restore_best_weights=True,\n",
    "    verbose=1\n",
    ")\n",
    "\n",
    "# === 4. Entrenamiento del modelo con SMOTE\n",
    "history = model.fit(\n",
    "    X_train_res, y_train_res,\n",
    "    epochs=15,\n",
    "    batch_size=64,\n",
    "    validation_data=(X_test, y_test),\n",
    "    callbacks=[early_stop]\n",
    ")\n"
   ]
  },
  {
   "cell_type": "code",
   "execution_count": 428,
   "id": "cc8e5861",
   "metadata": {},
   "outputs": [
    {
     "name": "stdout",
     "output_type": "stream",
     "text": [
      "Tamaño original: (25122, 150) (25122,)\n",
      "Tamaño después de SMOTE: (46688, 150) (46688,)\n",
      "Distribución después de SMOTE: {0: 23344, 1: 23344}\n"
     ]
    }
   ],
   "source": [
    "import numpy as np\n",
    "\n",
    "print(\"Tamaño original:\", X_train.shape, y_train.shape)\n",
    "print(\"Tamaño después de SMOTE:\", X_train_res.shape, y_train_res.shape)\n",
    "\n",
    "unique, counts = np.unique(y_train_res, return_counts=True)\n",
    "print(\"Distribución después de SMOTE:\", dict(zip(unique, counts)))\n"
   ]
  },
  {
   "cell_type": "markdown",
   "id": "87165db1",
   "metadata": {},
   "source": [
    "## 5. Visualización y evaluación"
   ]
  },
  {
   "cell_type": "code",
   "execution_count": 429,
   "id": "e3a6d368",
   "metadata": {},
   "outputs": [
    {
     "data": {
      "image/png": "[encoded data removed]",
      "text/plain": [
       "<Figure size 1200x500 with 2 Axes>"
      ]
     },
     "metadata": {},
     "output_type": "display_data"
    },
    {
     "name": "stdout",
     "output_type": "stream",
     "text": [
      "\u001b[1m197/197\u001b[0m \u001b[32m━━━━━━━━━━━━━━━━━━━━\u001b[0m\u001b[37m\u001b[0m \u001b[1m5s\u001b[0m 24ms/step\n",
      "              precision    recall  f1-score   support\n",
      "\n",
      "           0       0.93      1.00      0.96      5828\n",
      "           1       0.00      0.00      0.00       453\n",
      "\n",
      "    accuracy                           0.93      6281\n",
      "   macro avg       0.46      0.50      0.48      6281\n",
      "weighted avg       0.86      0.93      0.89      6281\n",
      "\n"
     ]
    },
    {
     "name": "stderr",
     "output_type": "stream",
     "text": [
      "c:\\Users\\herny\\AppData\\Local\\Programs\\Python\\Python311\\Lib\\site-packages\\sklearn\\metrics\\_classification.py:1471: UndefinedMetricWarning: Precision and F-score are ill-defined and being set to 0.0 in labels with no predicted samples. Use `zero_division` parameter to control this behavior.\n",
      "  _warn_prf(average, modifier, msg_start, len(result))\n",
      "c:\\Users\\herny\\AppData\\Local\\Programs\\Python\\Python311\\Lib\\site-packages\\sklearn\\metrics\\_classification.py:1471: UndefinedMetricWarning: Precision and F-score are ill-defined and being set to 0.0 in labels with no predicted samples. Use `zero_division` parameter to control this behavior.\n",
      "  _warn_prf(average, modifier, msg_start, len(result))\n",
      "c:\\Users\\herny\\AppData\\Local\\Programs\\Python\\Python311\\Lib\\site-packages\\sklearn\\metrics\\_classification.py:1471: UndefinedMetricWarning: Precision and F-score are ill-defined and being set to 0.0 in labels with no predicted samples. Use `zero_division` parameter to control this behavior.\n",
      "  _warn_prf(average, modifier, msg_start, len(result))\n"
     ]
    }
   ],
   "source": [
    "import matplotlib.pyplot as plt\n",
    "from sklearn.metrics import classification_report\n",
    "\n",
    "def plot_metrics_side_by_side(history):\n",
    "    fig, axes = plt.subplots(1, 2, figsize=(12, 5))\n",
    "\n",
    "    # Accuracy\n",
    "    axes[0].plot(history.history['accuracy'], label='accuracy')\n",
    "    axes[0].plot(history.history['val_accuracy'], label='val_accuracy')\n",
    "    axes[0].set_title('Accuracy durante entrenamiento')\n",
    "    axes[0].set_xlabel('Epochs')\n",
    "    axes[0].set_ylabel('Accuracy')\n",
    "    #axes[0].set_ylim(0.85, 1)  # Escala ajustada\n",
    "    axes[0].legend()\n",
    "\n",
    "    # Loss\n",
    "    axes[1].plot(history.history['loss'], label='loss')\n",
    "    axes[1].plot(history.history['val_loss'], label='val_loss')\n",
    "    axes[1].set_title('Loss durante entrenamiento')\n",
    "    axes[1].set_xlabel('Epochs')\n",
    "    axes[1].set_ylabel('Loss')\n",
    "    #axes[1].set_ylim(0.0, .8)  # Escala ajustada\n",
    "    axes[1].legend()\n",
    "\n",
    "    plt.tight_layout()\n",
    "    plt.show()\n",
    "\n",
    "plot_metrics_side_by_side(history)\n",
    "\n",
    "# Predicción y reporte\n",
    "y_pred = (model.predict(X_test) > 0.5).astype(\"int32\")\n",
    "print(classification_report(y_test, y_pred))\n"
   ]
  },
  {
   "cell_type": "markdown",
   "id": "300a38a1",
   "metadata": {},
   "source": [
    "## [6] Evaluación del modelo"
   ]
  },
  {
   "cell_type": "code",
   "execution_count": 430,
   "id": "b74663ec",
   "metadata": {},
   "outputs": [
    {
     "name": "stdout",
     "output_type": "stream",
     "text": [
      "\u001b[1m197/197\u001b[0m \u001b[32m━━━━━━━━━━━━━━━━━━━━\u001b[0m\u001b[37m\u001b[0m \u001b[1m5s\u001b[0m 26ms/step\n",
      "Valores probabilidad mayores a 0.3: 6281\n"
     ]
    }
   ],
   "source": [
    "y_proba = model.predict(X_test)\n",
    "print(\"Valores probabilidad mayores a 0.3:\", np.sum(y_proba > 0.3))"
   ]
  },
  {
   "cell_type": "code",
   "execution_count": 431,
   "id": "f2876990",
   "metadata": {},
   "outputs": [
    {
     "name": "stdout",
     "output_type": "stream",
     "text": [
      "\u001b[1m197/197\u001b[0m \u001b[32m━━━━━━━━━━━━━━━━━━━━\u001b[0m\u001b[37m\u001b[0m \u001b[1m5s\u001b[0m 23ms/step\n",
      "Reporte de clasificación:\n",
      "\n",
      "              precision    recall  f1-score   support\n",
      "\n",
      "           0       0.00      0.00      0.00      5828\n",
      "           1       0.07      1.00      0.13       453\n",
      "\n",
      "    accuracy                           0.07      6281\n",
      "   macro avg       0.04      0.50      0.07      6281\n",
      "weighted avg       0.01      0.07      0.01      6281\n",
      "\n"
     ]
    },
    {
     "name": "stderr",
     "output_type": "stream",
     "text": [
      "c:\\Users\\herny\\AppData\\Local\\Programs\\Python\\Python311\\Lib\\site-packages\\sklearn\\metrics\\_classification.py:1471: UndefinedMetricWarning: Precision and F-score are ill-defined and being set to 0.0 in labels with no predicted samples. Use `zero_division` parameter to control this behavior.\n",
      "  _warn_prf(average, modifier, msg_start, len(result))\n",
      "c:\\Users\\herny\\AppData\\Local\\Programs\\Python\\Python311\\Lib\\site-packages\\sklearn\\metrics\\_classification.py:1471: UndefinedMetricWarning: Precision and F-score are ill-defined and being set to 0.0 in labels with no predicted samples. Use `zero_division` parameter to control this behavior.\n",
      "  _warn_prf(average, modifier, msg_start, len(result))\n",
      "c:\\Users\\herny\\AppData\\Local\\Programs\\Python\\Python311\\Lib\\site-packages\\sklearn\\metrics\\_classification.py:1471: UndefinedMetricWarning: Precision and F-score are ill-defined and being set to 0.0 in labels with no predicted samples. Use `zero_division` parameter to control this behavior.\n",
      "  _warn_prf(average, modifier, msg_start, len(result))\n"
     ]
    },
    {
     "data": {
      "image/png": "[encoded data removed]",
      "text/plain": [
       "<Figure size 640x480 with 2 Axes>"
      ]
     },
     "metadata": {},
     "output_type": "display_data"
    }
   ],
   "source": [
    "from sklearn.metrics import classification_report, confusion_matrix\n",
    "\n",
    "# Generar predicciones (con umbral de 0.5)\n",
    "#y_pred = (model.predict(X_test) > 0.5).astype(\"int32\")\n",
    "y_pred = (model.predict(X_test) > 0.3).astype(\"int32\")  # umbral ajustado\n",
    "\n",
    "\n",
    "# Reporte de clasificación\n",
    "print(\"Reporte de clasificación:\\n\")\n",
    "print(classification_report(y_test, y_pred))\n",
    "\n",
    "# Matriz de confusión (opcional)\n",
    "import seaborn as sns\n",
    "import matplotlib.pyplot as plt\n",
    "cm = confusion_matrix(y_test, y_pred)\n",
    "sns.heatmap(cm, annot=True, fmt='d', cmap='Blues')\n",
    "plt.title(\"Matriz de confusión\")\n",
    "plt.xlabel(\"Predicción\")\n",
    "plt.ylabel(\"Real\")\n",
    "plt.show()\n"
   ]
  },
  {
   "cell_type": "code",
   "execution_count": 432,
   "id": "85980edc",
   "metadata": {},
   "outputs": [
    {
     "name": "stdout",
     "output_type": "stream",
     "text": [
      "\u001b[1m197/197\u001b[0m \u001b[32m━━━━━━━━━━━━━━━━━━━━\u001b[0m\u001b[37m\u001b[0m \u001b[1m5s\u001b[0m 23ms/step\n"
     ]
    }
   ],
   "source": [
    "y_pred = (model.predict(X_test) > 0.3).astype(\"int32\")\n"
   ]
  },
  {
   "cell_type": "code",
   "execution_count": 433,
   "id": "a98d8002",
   "metadata": {},
   "outputs": [
    {
     "data": {
      "image/png": "[encoded data removed]",
      "text/plain": [
       "<Figure size 640x480 with 1 Axes>"
      ]
     },
     "metadata": {},
     "output_type": "display_data"
    }
   ],
   "source": [
    "import matplotlib.pyplot as plt\n",
    "plt.hist(y_proba, bins=50)\n",
    "plt.title(\"Distribución de probabilidades predichas\")\n",
    "plt.xlabel(\"Probabilidad de clase 1\")\n",
    "plt.ylabel(\"Frecuencia\")\n",
    "plt.show()\n"
   ]
  },
  {
   "cell_type": "markdown",
   "id": "03f69b30",
   "metadata": {},
   "source": [
    "## 🧠 Comparación de Estrategias: SMOTE vs class_weight\n",
    "\n",
    "### 🔍 Resumen de Resultados\n",
    "\n",
    "| Métrica / Resultado             | Con SMOTE                        | Con class_weight                   |\n",
    "|---------------------------------|----------------------------------|------------------------------------|\n",
    "| Accuracy entrenamiento          | Oscila entre 0.49 - 0.50         | Inicia bajo pero mejora (0.72 - 0.90) |\n",
    "| Val_accuracy                    | Alterna 0.0721 / 0.9279 (inestable) | Falsa estabilidad en 0.9279 o 0.0721 |\n",
    "| Val_loss                        | No mejora realmente (≈ 0.69)     | Se mantiene entre 0.688 - 0.694     |\n",
    "| EarlyStopping                   | Se activa tarde (epoch 15)       | Se activa en epoch 7               |\n",
    "| Predicciones                    | Sigue colapsando a una clase     | También colapsa por momentos       |\n",
    "\n",
    "---\n",
    "\n",
    "### 📌 Conclusiones\n",
    "\n",
    "- 🔴 **Ambas estrategias presentan problemas**: el modelo no logra aprender patrones útiles incluso con datos balanceados o ponderación de clases.\n",
    "- ⚠️ **Val_accuracy de 0.9279 es engañosa**: aparece cuando el modelo predice todo como la clase dominante.\n",
    "- 📉 **El modelo colapsa** por:\n",
    "  - Secuencias pobres o mal tokenizadas.\n",
    "  - Redes con poca capacidad o excesiva regularización.\n",
    "  - Desequilibrio aún presente en `val` que sesga la evaluación.\n",
    "\n",
    "---\n",
    "\n",
    "### ✅ Recomendaciones\n",
    "\n",
    "- 🔁 Probar **BiLSTM** (funcionó mejor anteriormente).\n",
    "- 🧠 Agregar **mecanismo de atención** para reforzar el foco semántico.\n",
    "- 🧹 Validar el preprocesamiento (`tweet_limpio` no debe ser demasiado agresivo).\n",
    "- 🔍 Usar **predicciones suaves** y ajustar el umbral manualmente.\n",
    "- ✅ Usar `classification_report` y `confusion_matrix`, no solo accuracy.\n",
    "\n",
    "---\n",
    "\n",
    "### 🟢 Mejor desempeño observado: **BiLSTM con 2 capas y atención**\n"
   ]
  },
  {
   "cell_type": "markdown",
   "id": "bb205862",
   "metadata": {},
   "source": [
    "## Modelo SMOTE CON  LSTM BIDIRECIONAL"
   ]
  },
  {
   "cell_type": "code",
   "execution_count": 434,
   "id": "eb033cce",
   "metadata": {},
   "outputs": [
    {
     "name": "stdout",
     "output_type": "stream",
     "text": [
      "Distribución después de SMOTE: {0: 23344, 1: 23344}\n"
     ]
    }
   ],
   "source": [
    "from sklearn.model_selection import train_test_split\n",
    "from imblearn.over_sampling import SMOTE\n",
    "\n",
    "# División original\n",
    "X_train, X_test, y_train, y_test = train_test_split(X, y, test_size=0.2, random_state=42)\n",
    "\n",
    "# Aplicar SMOTE\n",
    "sm = SMOTE(random_state=42)\n",
    "X_train_res, y_train_res = sm.fit_resample(X_train, y_train)\n",
    "\n",
    "print(\"Distribución después de SMOTE:\", dict(zip(*np.unique(y_train_res, return_counts=True))))\n"
   ]
  },
  {
   "cell_type": "code",
   "execution_count": 435,
   "id": "ca45b58a",
   "metadata": {},
   "outputs": [],
   "source": [
    "from tensorflow.keras.models import Sequential\n",
    "from tensorflow.keras.layers import Embedding, LSTM, Dense, Dropout, Bidirectional\n",
    "from tensorflow.keras.regularizers import l2\n",
    "\n",
    "model = Sequential([\n",
    "    Embedding(input_dim=10000, output_dim=128),\n",
    "    Bidirectional(LSTM(64, return_sequences=True)),\n",
    "    Dropout(0.4),\n",
    "    Bidirectional(LSTM(32)),\n",
    "    Dense(64, activation='relu', kernel_regularizer=l2(0.001)),\n",
    "    Dropout(0.3),\n",
    "    Dense(1, activation='sigmoid')\n",
    "])\n"
   ]
  },
  {
   "cell_type": "code",
   "execution_count": 436,
   "id": "ed097bc5",
   "metadata": {},
   "outputs": [],
   "source": [
    "from tensorflow.keras.optimizers import Adam\n",
    "\n",
    "model.compile(\n",
    "    loss='binary_crossentropy',\n",
    "    optimizer=Adam(learning_rate=0.0005),\n",
    "    metrics=['accuracy']\n",
    ")\n"
   ]
  },
  {
   "cell_type": "code",
   "execution_count": 437,
   "id": "66afa1df",
   "metadata": {},
   "outputs": [
    {
     "name": "stdout",
     "output_type": "stream",
     "text": [
      "Epoch 1/15\n",
      "\u001b[1m730/730\u001b[0m \u001b[32m━━━━━━━━━━━━━━━━━━━━\u001b[0m\u001b[37m\u001b[0m \u001b[1m121s\u001b[0m 158ms/step - accuracy: 0.6386 - loss: 0.6596 - val_accuracy: 0.7193 - val_loss: 0.5664\n",
      "Epoch 2/15\n",
      "\u001b[1m730/730\u001b[0m \u001b[32m━━━━━━━━━━━━━━━━━━━━\u001b[0m\u001b[37m\u001b[0m \u001b[1m121s\u001b[0m 166ms/step - accuracy: 0.7867 - loss: 0.4776 - val_accuracy: 0.7755 - val_loss: 0.5066\n",
      "Epoch 3/15\n",
      "\u001b[1m730/730\u001b[0m \u001b[32m━━━━━━━━━━━━━━━━━━━━\u001b[0m\u001b[37m\u001b[0m \u001b[1m127s\u001b[0m 175ms/step - accuracy: 0.8394 - loss: 0.3800 - val_accuracy: 0.7889 - val_loss: 0.5115\n",
      "Epoch 4/15\n",
      "\u001b[1m730/730\u001b[0m \u001b[32m━━━━━━━━━━━━━━━━━━━━\u001b[0m\u001b[37m\u001b[0m \u001b[1m126s\u001b[0m 172ms/step - accuracy: 0.8719 - loss: 0.3108 - val_accuracy: 0.7790 - val_loss: 0.5968\n",
      "Epoch 5/15\n",
      "\u001b[1m730/730\u001b[0m \u001b[32m━━━━━━━━━━━━━━━━━━━━\u001b[0m\u001b[37m\u001b[0m \u001b[1m129s\u001b[0m 177ms/step - accuracy: 0.8955 - loss: 0.2579 - val_accuracy: 0.7962 - val_loss: 0.5890\n",
      "Epoch 5: early stopping\n",
      "Restoring model weights from the end of the best epoch: 2.\n"
     ]
    }
   ],
   "source": [
    "from tensorflow.keras.callbacks import EarlyStopping\n",
    "\n",
    "early_stop = EarlyStopping(\n",
    "    monitor='val_loss',\n",
    "    patience=3,\n",
    "    restore_best_weights=True,\n",
    "    verbose=1\n",
    ")\n",
    "\n",
    "history = model.fit(\n",
    "    X_train_res, y_train_res,\n",
    "    epochs=15,\n",
    "    batch_size=64,\n",
    "    validation_data=(X_test, y_test),\n",
    "    callbacks=[early_stop]\n",
    ")\n"
   ]
  },
  {
   "cell_type": "code",
   "execution_count": 438,
   "id": "c331ad89",
   "metadata": {},
   "outputs": [
    {
     "name": "stdout",
     "output_type": "stream",
     "text": [
      "\u001b[1m197/197\u001b[0m \u001b[32m━━━━━━━━━━━━━━━━━━━━\u001b[0m\u001b[37m\u001b[0m \u001b[1m9s\u001b[0m 41ms/step\n",
      "              precision    recall  f1-score   support\n",
      "\n",
      "           0       0.95      0.98      0.97      5828\n",
      "           1       0.64      0.37      0.47       453\n",
      "\n",
      "    accuracy                           0.94      6281\n",
      "   macro avg       0.80      0.68      0.72      6281\n",
      "weighted avg       0.93      0.94      0.93      6281\n",
      "\n"
     ]
    },
    {
     "data": {
      "image/png": "[encoded data removed]",
      "text/plain": [
       "<Figure size 640x480 with 2 Axes>"
      ]
     },
     "metadata": {},
     "output_type": "display_data"
    }
   ],
   "source": [
    "from sklearn.metrics import classification_report, confusion_matrix\n",
    "import matplotlib.pyplot as plt\n",
    "import seaborn as sns\n",
    "\n",
    "# Predicciones\n",
    "y_pred = (model.predict(X_test) > 0.9).astype(\"int32\")\n",
    "\n",
    "# Reporte\n",
    "print(classification_report(y_test, y_pred))\n",
    "\n",
    "# Matriz de confusión\n",
    "cm = confusion_matrix(y_test, y_pred)\n",
    "sns.heatmap(cm, annot=True, fmt='d', cmap='Blues')\n",
    "plt.title(\"Matriz de confusión\")\n",
    "plt.xlabel(\"Predicción\")\n",
    "plt.ylabel(\"Real\")\n",
    "plt.show()\n"
   ]
  },
  {
   "cell_type": "markdown",
   "id": "aa3f896e",
   "metadata": {},
   "source": [
    "## 📊 Resultados Finales del Modelo BiLSTM con SMOTE\n",
    "\n",
    "### 🧠 Desempeño del Modelo\n",
    "\n",
    "| Métrica       | Clase 0 (No Positiva) | Clase 1 (Positiva) |\n",
    "|---------------|------------------------|---------------------|\n",
    "| Precision     | 0.95                   | 0.64                |\n",
    "| Recall        | 0.98                   | 0.37                |\n",
    "| F1-Score      | 0.97                   | 0.47                |\n",
    "| **Accuracy**  | **0.94 (global)**      |                     |\n",
    "\n",
    "---\n",
    "\n",
    "### 📌 Análisis de la Matriz de Confusión\n",
    "\n",
    "- Verdaderos Negativos (Clase 0 bien predicha): **5734**\n",
    "- Falsos Positivos (Clase 0 mal clasificada como 1): **94**\n",
    "- Falsos Negativos (Clase 1 mal clasificada como 0): **285**\n",
    "- Verdaderos Positivos (Clase 1 bien predicha): **168**\n",
    "\n",
    "---\n",
    "\n",
    "### ✅ Conclusiones\n",
    "\n",
    "- 🔝 El modelo **BiLSTM con SMOTE** logra una **alta precisión general (94%)**, destacándose en la predicción de la clase dominante (No Positiva).\n",
    "- 📉 Sin embargo, el desempeño en la clase minoritaria (Positiva) aún es **limitado**, con un `recall` de **0.37**, lo que indica que muchos positivos son clasificados como negativos.\n",
    "- 📈 Aún así, es **la mejor configuración probada hasta ahora**, especialmente en comparación con los modelos LSTM simples, incluso con `class_weight`.\n",
    "\n",
    "---\n",
    "\n",
    "### 🧪 Recomendaciones\n",
    "\n",
    "- 🔁 Continuar ajustando el **umbral de clasificación** (ej. de 0.5 a 0.3) para mejorar el `recall` de la clase 1.\n",
    "- 🧩 Incluir **mecanismos de atención** para ayudar al modelo a focalizarse en tokens relevantes.\n",
    "- 🛠️ Probar **ensembles** o combinar BiLSTM con modelos tradicionales (e.g., XGBoost).\n",
    "- 🧼 Revisar el `preprocesamiento`, emojis o textos filtrados pueden estar afectando los positivos reales.\n",
    "\n",
    "---\n",
    "\n",
    "### 🏁 Conclusión final\n",
    "\n",
    "> El BiLSTM con SMOTE representa un **buen punto de partida**, especialmente en tareas desbalanceadas. Aunque no soluciona completamente el problema del `recall` bajo en la clase minoritaria, logra mejorar significativamente frente a modelos previos.\n"
   ]
  }
 ],
 "metadata": {
  "kernelspec": {
   "display_name": "Python 3",
   "language": "python",
   "name": "python3"
  },
  "language_info": {
   "codemirror_mode": {
    "name": "ipython",
    "version": 3
   },
   "file_extension": ".py",
   "mimetype": "text/x-python",
   "name": "python",
   "nbconvert_exporter": "python",
   "pygments_lexer": "ipython3",
   "version": "3.11.9"
  }
 },
 "nbformat": 4,
 "nbformat_minor": 5
}
