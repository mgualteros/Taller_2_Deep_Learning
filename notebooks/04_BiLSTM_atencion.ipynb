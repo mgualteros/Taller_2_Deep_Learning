{
  "cells": [
    {
      "cell_type": "code",
      "execution_count": 8,
      "id": "49d480aa",
      "metadata": {
        "colab": {
          "base_uri": "https://localhost:8080/"
        },
        "id": "49d480aa",
        "outputId": "1626cd11-7185-44ba-d0dd-5deef256b2bd"
      },
      "outputs": [
        {
          "name": "stderr",
          "output_type": "stream",
          "text": [
            "/usr/local/lib/python3.11/dist-packages/keras/src/layers/core/embedding.py:90: UserWarning: Argument `input_length` is deprecated. Just remove it.\n",
            "  warnings.warn(\n"
          ]
        },
        {
          "name": "stdout",
          "output_type": "stream",
          "text": [
            "Epoch 1/10\n",
            "\u001b[1m595/595\u001b[0m \u001b[32m━━━━━━━━━━━━━━━━━━━━\u001b[0m\u001b[37m\u001b[0m \u001b[1m424s\u001b[0m 704ms/step - accuracy: 0.7529 - loss: 0.4782 - val_accuracy: 0.9511 - val_loss: 0.1846\n",
            "Epoch 2/10\n",
            "\u001b[1m595/595\u001b[0m \u001b[32m━━━━━━━━━━━━━━━━━━━━\u001b[0m\u001b[37m\u001b[0m \u001b[1m452s\u001b[0m 720ms/step - accuracy: 0.9760 - loss: 0.0835 - val_accuracy: 0.9706 - val_loss: 0.1174\n",
            "Epoch 3/10\n",
            "\u001b[1m595/595\u001b[0m \u001b[32m━━━━━━━━━━━━━━━━━━━━\u001b[0m\u001b[37m\u001b[0m \u001b[1m422s\u001b[0m 709ms/step - accuracy: 0.9898 - loss: 0.0391 - val_accuracy: 0.9727 - val_loss: 0.0990\n",
            "Epoch 4/10\n",
            "\u001b[1m595/595\u001b[0m \u001b[32m━━━━━━━━━━━━━━━━━━━━\u001b[0m\u001b[37m\u001b[0m \u001b[1m451s\u001b[0m 724ms/step - accuracy: 0.9936 - loss: 0.0252 - val_accuracy: 0.9897 - val_loss: 0.0381\n",
            "Epoch 5/10\n",
            "\u001b[1m595/595\u001b[0m \u001b[32m━━━━━━━━━━━━━━━━━━━━\u001b[0m\u001b[37m\u001b[0m \u001b[1m440s\u001b[0m 721ms/step - accuracy: 0.9954 - loss: 0.0187 - val_accuracy: 0.9947 - val_loss: 0.0208\n",
            "Epoch 6/10\n",
            "\u001b[1m595/595\u001b[0m \u001b[32m━━━━━━━━━━━━━━━━━━━━\u001b[0m\u001b[37m\u001b[0m \u001b[1m445s\u001b[0m 727ms/step - accuracy: 0.9974 - loss: 0.0099 - val_accuracy: 0.9979 - val_loss: 0.0143\n",
            "Epoch 7/10\n",
            "\u001b[1m595/595\u001b[0m \u001b[32m━━━━━━━━━━━━━━━━━━━━\u001b[0m\u001b[37m\u001b[0m \u001b[1m441s\u001b[0m 725ms/step - accuracy: 0.9977 - loss: 0.0111 - val_accuracy: 0.9962 - val_loss: 0.0190\n",
            "Epoch 8/10\n",
            "\u001b[1m595/595\u001b[0m \u001b[32m━━━━━━━━━━━━━━━━━━━━\u001b[0m\u001b[37m\u001b[0m \u001b[1m441s\u001b[0m 725ms/step - accuracy: 0.9980 - loss: 0.0089 - val_accuracy: 0.9960 - val_loss: 0.0248\n",
            "Epoch 9/10\n",
            "\u001b[1m595/595\u001b[0m \u001b[32m━━━━━━━━━━━━━━━━━━━━\u001b[0m\u001b[37m\u001b[0m \u001b[1m477s\u001b[0m 783ms/step - accuracy: 0.9975 - loss: 0.0097 - val_accuracy: 0.9994 - val_loss: 0.0035\n",
            "Epoch 10/10\n",
            "\u001b[1m595/595\u001b[0m \u001b[32m━━━━━━━━━━━━━━━━━━━━\u001b[0m\u001b[37m\u001b[0m \u001b[1m469s\u001b[0m 728ms/step - accuracy: 0.9978 - loss: 0.0071 - val_accuracy: 0.9997 - val_loss: 0.0051\n",
            "\u001b[1m200/200\u001b[0m \u001b[32m━━━━━━━━━━━━━━━━━━━━\u001b[0m\u001b[37m\u001b[0m \u001b[1m18s\u001b[0m 90ms/step - accuracy: 0.9570 - loss: 0.2584\n",
            "Loss: 0.2670 - Accuracy: 0.9568\n"
          ]
        }
      ],
      "source": [
        "import numpy as np\n",
        "import pandas as pd\n",
        "import tensorflow as tf\n",
        "from tensorflow.keras.preprocessing.text import Tokenizer\n",
        "from tensorflow.keras.preprocessing.sequence import pad_sequences\n",
        "from sklearn.model_selection import train_test_split\n",
        "from imblearn.over_sampling import RandomOverSampler\n",
        "from tensorflow.keras.models import Model\n",
        "from tensorflow.keras.layers import (\n",
        "    Input, Dense, LSTM, Bidirectional, Embedding,\n",
        "    Multiply, Softmax, Lambda\n",
        ")\n",
        "from tensorflow.keras.optimizers import Adam\n",
        "\n",
        "# 1. Cargar dataset\n",
        "url = 'https://raw.githubusercontent.com/dD2405/Twitter_Sentiment_Analysis/master/train.csv'\n",
        "csv_path = tf.keras.utils.get_file(\"twitter_sentiment.csv\", url)\n",
        "df = pd.read_csv(csv_path)\n",
        "tweets = df['tweet']\n",
        "labels = df['label']\n",
        "\n",
        "# 2. Tokenización y padding\n",
        "max_features = 10000\n",
        "maxlen = 300\n",
        "\n",
        "tokenizer = Tokenizer(num_words=max_features)\n",
        "tokenizer.fit_on_texts(tweets)\n",
        "sequences = tokenizer.texts_to_sequences(tweets)\n",
        "\n",
        "x_data = pad_sequences(sequences, maxlen=maxlen)\n",
        "y_data = labels.values\n",
        "\n",
        "# 3. Split Train/Test\n",
        "x_train, x_test, y_train, y_test = train_test_split(\n",
        "    x_data, y_data, test_size=0.2, random_state=42, stratify=y_data\n",
        ")\n",
        "\n",
        "# 4. Oversampling con RandomOverSampler\n",
        "ros = RandomOverSampler(random_state=42)\n",
        "x_resampled, y_resampled = ros.fit_resample(x_train, y_train)\n",
        "\n",
        "# 5. Modelo BiLSTM con atención (corregido con Lambda)\n",
        "def BiLSTM_con_atencion(ventana, vocab_size, embedding_dim=128):\n",
        "    inputs = Input(shape=(ventana,))\n",
        "    embedding = Embedding(input_dim=vocab_size, output_dim=embedding_dim, input_length=ventana)(inputs)\n",
        "\n",
        "    lstm_out = Bidirectional(LSTM(64, return_sequences=True))(embedding)\n",
        "\n",
        "    attention_weights = Dense(1, activation='tanh')(lstm_out)\n",
        "    attention_weights = Softmax(axis=1)(attention_weights)\n",
        "\n",
        "    attended = Multiply()([lstm_out, attention_weights])\n",
        "\n",
        "    # Usamos Lambda para aplicar tf.reduce_sum correctamente\n",
        "    context_vector = Lambda(lambda x: tf.reduce_sum(x, axis=1))(attended)\n",
        "\n",
        "    output = Dense(1, activation='sigmoid')(context_vector)\n",
        "    model = Model(inputs=inputs, outputs=output)\n",
        "    model.compile(optimizer=Adam(learning_rate=0.001), loss='binary_crossentropy', metrics=['accuracy'])\n",
        "    return model\n",
        "\n",
        "# 6. Entrenamiento\n",
        "modelo = BiLSTM_con_atencion(ventana=maxlen, vocab_size=max_features)\n",
        "history = modelo.fit(x_resampled, y_resampled, batch_size=64, epochs=10, validation_split=0.2)\n",
        "\n",
        "# 7. Evaluación\n",
        "loss, accuracy = modelo.evaluate(x_test, y_test)\n",
        "print(f\"Loss: {loss:.4f} - Accuracy: {accuracy:.4f}\")\n"
      ]
    },
    {
      "cell_type": "code",
      "execution_count": null,
      "id": "0643f911",
      "metadata": {},
      "outputs": [],
      "source": [
        "model.summary()"
      ]
    },
    {
      "cell_type": "code",
      "execution_count": 9,
      "id": "a4d9af1b",
      "metadata": {
        "colab": {
          "base_uri": "https://localhost:8080/",
          "height": 680
        },
        "id": "a4d9af1b",
        "outputId": "703d2945-0b01-495e-ae74-47412a49db43"
      },
      "outputs": [
        {
          "name": "stdout",
          "output_type": "stream",
          "text": [
            "\u001b[1m200/200\u001b[0m \u001b[32m━━━━━━━━━━━━━━━━━━━━\u001b[0m\u001b[37m\u001b[0m \u001b[1m23s\u001b[0m 115ms/step\n",
            "Reporte de clasificación:\n",
            "\n",
            "              precision    recall  f1-score   support\n",
            "\n",
            "           0       0.97      0.98      0.98      5945\n",
            "           1       0.72      0.62      0.67       448\n",
            "\n",
            "    accuracy                           0.96      6393\n",
            "   macro avg       0.85      0.80      0.82      6393\n",
            "weighted avg       0.95      0.96      0.96      6393\n",
            "\n"
          ]
        },
        {
          "data": {
            "image/png": "[encoded data removed]",
            "text/plain": [
              "<Figure size 640x480 with 2 Axes>"
            ]
          },
          "metadata": {},
          "output_type": "display_data"
        }
      ],
      "source": [
        "from sklearn.metrics import classification_report, confusion_matrix\n",
        "\n",
        "# Generar predicciones (con umbral de 0.5)\n",
        "#y_pred = (model.predict(X_test) > 0.5).astype(\"int32\")\n",
        "y_pred = (modelo.predict(x_test) > 0.3).astype(\"int32\")  # umbral ajustado\n",
        "\n",
        "# Reporte de clasificación\n",
        "print(\"Reporte de clasificación:\\n\")\n",
        "print(classification_report(y_test, y_pred))\n",
        "\n",
        "# Matriz de confusión (opcional)\n",
        "import seaborn as sns\n",
        "import matplotlib.pyplot as plt\n",
        "cm = confusion_matrix(y_test, y_pred)\n",
        "sns.heatmap(cm, annot=True, fmt='d', cmap='Blues')\n",
        "plt.title(\"Matriz de confusión\")\n",
        "plt.xlabel(\"Predicción\")\n",
        "plt.ylabel(\"Real\")\n",
        "plt.show()"
      ]
    }
  ],
  "metadata": {
    "colab": {
      "provenance": []
    },
    "kernelspec": {
      "display_name": "Python 3",
      "language": "python",
      "name": "python3"
    },
    "language_info": {
      "codemirror_mode": {
        "name": "ipython",
        "version": 3
      },
      "file_extension": ".py",
      "mimetype": "text/x-python",
      "name": "python",
      "nbconvert_exporter": "python",
      "pygments_lexer": "ipython3",
      "version": "3.10.16"
    }
  },
  "nbformat": 4,
  "nbformat_minor": 5
}
